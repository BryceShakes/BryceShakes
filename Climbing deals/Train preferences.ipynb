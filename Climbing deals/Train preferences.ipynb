{
 "cells": [
  {
   "cell_type": "markdown",
   "id": "cbc05aa9-b577-46c7-9195-1563d6356abd",
   "metadata": {},
   "source": [
    "## Train preferences\n",
    "\n",
    "Labelled data has been generated in `generate train.ipynb`. This notebooks will execute steps 2 - 4 required to filtering:\n",
    "\n",
    "\n",
    "    step 1- Generate target, will do this manually :( - binary if interested or not\n",
    "    step 2- tokenise label into usable format\n",
    "    step 3- go from images link to actual image (should all be 150 by 150 to make things easier)\n",
    "    step 4- build models ??\n",
    "        idea 1 - two models, agg results\n",
    "        idea 2 - one model, stack text data after convolution??\n",
    "        idea 3 - towered approach\n",
    "            do convolution -> some dense layers\n",
    "            do text -> some dense layers.\n",
    "            stack outputs arrs from there on?"
   ]
  },
  {
   "cell_type": "markdown",
   "id": "3ba57757-213e-4684-9eef-138fc0293150",
   "metadata": {},
   "source": [
    "First lets read in the generated data"
   ]
  },
  {
   "cell_type": "code",
   "execution_count": 6,
   "id": "c3f75c8d-1cec-48da-9d78-bb5e4667c7a1",
   "metadata": {},
   "outputs": [],
   "source": [
    "import pandas as pd\n",
    "import os\n",
    "df = pd.read_csv(f'{os.getcwd()}/labeled_data.csv')"
   ]
  },
  {
   "cell_type": "code",
   "execution_count": 9,
   "id": "313dd8ce-f4e2-4ab1-9c87-f5b05446ef0f",
   "metadata": {},
   "outputs": [],
   "source": [
    "import tensorflow as tf\n",
    "import keras_tuner as kt"
   ]
  },
  {
   "cell_type": "code",
   "execution_count": 3,
   "id": "91e2f69a-7aa0-477b-8d7e-6a3309d16529",
   "metadata": {},
   "outputs": [
    {
     "name": "stdout",
     "output_type": "stream",
     "text": [
      "Num GPUs Available:  1\n"
     ]
    },
    {
     "name": "stderr",
     "output_type": "stream",
     "text": [
      "2025-03-15 02:31:49.196240: I tensorflow/compiler/xla/stream_executor/cuda/cuda_gpu_executor.cc:982] could not open file to read NUMA node: /sys/bus/pci/devices/0000:2b:00.0/numa_node\n",
      "Your kernel may have been built without NUMA support.\n",
      "2025-03-15 02:31:49.210042: I tensorflow/compiler/xla/stream_executor/cuda/cuda_gpu_executor.cc:982] could not open file to read NUMA node: /sys/bus/pci/devices/0000:2b:00.0/numa_node\n",
      "Your kernel may have been built without NUMA support.\n",
      "2025-03-15 02:31:49.210087: I tensorflow/compiler/xla/stream_executor/cuda/cuda_gpu_executor.cc:982] could not open file to read NUMA node: /sys/bus/pci/devices/0000:2b:00.0/numa_node\n",
      "Your kernel may have been built without NUMA support.\n"
     ]
    }
   ],
   "source": [
    "print(\"Num GPUs Available: \", len(tf.config.list_physical_devices('GPU')))"
   ]
  },
  {
   "cell_type": "markdown",
   "id": "6f68d253-5869-454e-bf95-508601304e98",
   "metadata": {},
   "source": [
    "### Step 2"
   ]
  }
 ],
 "metadata": {
  "kernelspec": {
   "display_name": "Python [conda env:tf]",
   "language": "python",
   "name": "conda-env-tf-py"
  },
  "language_info": {
   "codemirror_mode": {
    "name": "ipython",
    "version": 3
   },
   "file_extension": ".py",
   "mimetype": "text/x-python",
   "name": "python",
   "nbconvert_exporter": "python",
   "pygments_lexer": "ipython3",
   "version": "3.9.16"
  }
 },
 "nbformat": 4,
 "nbformat_minor": 5
}
