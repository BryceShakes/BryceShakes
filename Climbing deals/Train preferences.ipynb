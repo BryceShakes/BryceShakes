{
 "cells": [
  {
   "cell_type": "markdown",
   "id": "cbc05aa9-b577-46c7-9195-1563d6356abd",
   "metadata": {},
   "source": [
    "## Train preferences\n",
    "\n",
    "Labelled data has been generated in `generate train.ipynb`. This notebooks will execute steps 2 - 4 required to filtering:\n",
    "\n",
    "\n",
    "    step 1- Generate target, will do this manually :( - binary if interested or not\n",
    "    step 2- tokenise label into usable format\n",
    "    step 3- go from images link to actual image (should all be 150 by 150 to make things easier)\n",
    "    step 4- build models ??\n",
    "        idea 1 - two models, agg results\n",
    "        idea 2 - one model, stack text data after convolution??\n",
    "        idea 3 - towered approach\n",
    "            do convolution -> some dense layers\n",
    "            do text -> some dense layers.\n",
    "            stack outputs arrs from there on?"
   ]
  },
  {
   "cell_type": "markdown",
   "id": "3ba57757-213e-4684-9eef-138fc0293150",
   "metadata": {},
   "source": [
    "First lets read in the generated data"
   ]
  },
  {
   "cell_type": "code",
   "execution_count": null,
   "id": "c3f75c8d-1cec-48da-9d78-bb5e4667c7a1",
   "metadata": {},
   "outputs": [],
   "source": [
    "import pandas as pd\n",
    "df = pd.read_csv(path = f'{os.getcwd()}/labeled_data.csv')"
   ]
  },
  {
   "cell_type": "markdown",
   "id": "6f68d253-5869-454e-bf95-508601304e98",
   "metadata": {},
   "source": [
    "### Step 2"
   ]
  }
 ],
 "metadata": {
  "kernelspec": {
   "display_name": "Python 3 (ipykernel)",
   "language": "python",
   "name": "python3"
  },
  "language_info": {
   "codemirror_mode": {
    "name": "ipython",
    "version": 3
   },
   "file_extension": ".py",
   "mimetype": "text/x-python",
   "name": "python",
   "nbconvert_exporter": "python",
   "pygments_lexer": "ipython3",
   "version": "3.10.13"
  }
 },
 "nbformat": 4,
 "nbformat_minor": 5
}
