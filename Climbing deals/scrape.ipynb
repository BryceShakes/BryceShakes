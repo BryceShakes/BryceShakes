{
 "cells": [
  {
   "cell_type": "markdown",
   "id": "bf557969-8000-415a-9425-c519a93715bf",
   "metadata": {},
   "source": [
    "## Climbing sale\n",
    "\n",
    "Will run the webscrapes, gather and filter the ideal items, presenting what we want"
   ]
  },
  {
   "cell_type": "markdown",
   "id": "629336e7-cb1b-4162-856a-6e7aa259cfdb",
   "metadata": {},
   "source": [
    "#### Getting Firefox, gecko and selenium to work :)\n",
    "\n",
    "This was genuinely remarkable difficult, so here is how i did it (inside a jupyter lab insttance through ubuntu). All the following commands are ran in a terminal inside the lab instance (no kernel)\n",
    "\n",
    "First install firefox, latest version as from the [website](https://support.mozilla.org/en-US/kb/install-firefox-linux#w_install-from-your-distribution-package-manager)\n",
    "\n",
    "```\n",
    "  253  sudo install -d -m 0755 /etc/apt/keyrings\n",
    "  254  wget -q https://packages.mozilla.org/apt/repo-signing-key.gpg -O- | sudo tee /etc/apt/keyrings/packages.mozilla.org.asc > /dev/null\n",
    "  255  gpg -n -q --import --import-options import-show /etc/apt/keyrings/packages.mozilla.org.asc | awk '/pub/{getline; gsub(/^ +| +$/,\"\"); if($0 == \"35BAA0B33E9EB396F59CA838C0BA5CE6DC6315A3\") print \"\\nThe key fingerprint matches (\"$0\").\\n\"; else print \"\\nVerification failed: the fingerprint (\"$0\") does not match the expected one.\\n\"}'\n",
    "  256  echo \"deb [signed-by=/etc/apt/keyrings/packages.mozilla.org.asc] https://packages.mozilla.org/apt mozilla main\" | sudo tee -a /etc/apt/sources.list.d/mozilla.list > /dev/null\n",
    "  257  echo '\n",
    "  258  Package: *\n",
    "  259  Pin: origin packages.mozilla.org\n",
    "  260  Pin-Priority: 1000\n",
    "  261  ' | sudo tee /etc/apt/preferences.d/mozilla \n",
    "  262  sudo apt-get update && sudo apt-get install firefox\n",
    "  263  apt-get install -y libglib2.0-0=2.50.3-2     libnss3=2:3.26.2-1.1+deb9u1     libgconf-2-4=3.2.6-4+b1     libfontconfig1=2.11.0-6.7+b1\n",
    "  264  sudo apt-get install firefox-geckodriver\n",
    "  265  apt-get firefox\n",
    "  266  apt-get install firefox\n",
    "```\n",
    "\n",
    "Now we need to install the latest geckodriver for firefox, these are helpful [stack](https://stackoverflow.com/questions/40867959/installing-geckodriver-only-using-terminal). Note that i had to put the driver in `/usr/bin` not `/usr/local/bin`\n",
    "\n",
    "```\n",
    "# i manually downloaded the driver and moved to active directory from here:  https://github.com/mozilla/geckodriver/releases\n",
    "# though apparently you can do this: (make sure this is the latest release)\n",
    "        328: wget https://github.com/mozilla/geckodriver/releases/download/v0.36.0/geckodriver-v0.35.0-linux32.tar.gz\n",
    "  329  sudo mv geckodriver-v0.35.0-linux64.tar.gz /usr/bin\n",
    "  330  cd /usr/bin\n",
    "  332  sudo tar -xvf geckodriver-v0.35.0-linux64.tar.gz \n",
    "  333  sudo chmod +x geckodriver\n",
    "  334  geckodriver\n",
    "```\n",
    "\n",
    "Finally migrate to the kernel/virtualenv you want, and install selenium:\n",
    "\n",
    "```\n",
    "pip install -U selenium\n",
    "```"
   ]
  },
  {
   "cell_type": "code",
   "execution_count": 1,
   "id": "de051832-2c11-4658-a693-51ff988b7f2c",
   "metadata": {},
   "outputs": [],
   "source": [
    "from climbing_scraper import scraper\n",
    "import warnings\n",
    "warnings.filterwarnings(\"ignore\")"
   ]
  },
  {
   "cell_type": "code",
   "execution_count": 2,
   "id": "175686c9-11ed-4135-89f7-bd00c33f300f",
   "metadata": {},
   "outputs": [
    {
     "name": "stderr",
     "output_type": "stream",
     "text": [
      "The geckodriver version (0.35.0) detected in PATH at /usr/bin/geckodriver might not be compatible with the detected firefox version (135.0.1); currently, geckodriver 0.36.0 is recommended for firefox 135.*, so it is advised to delete the driver in PATH and retry\n"
     ]
    },
    {
     "ename": "KeyboardInterrupt",
     "evalue": "",
     "output_type": "error",
     "traceback": [
      "\u001b[0;31m---------------------------------------------------------------------------\u001b[0m",
      "\u001b[0;31mKeyboardInterrupt\u001b[0m                         Traceback (most recent call last)",
      "Cell \u001b[0;32mIn[2], line 1\u001b[0m\n\u001b[0;32m----> 1\u001b[0m out \u001b[38;5;241m=\u001b[39m \u001b[43mscraper\u001b[49m\u001b[38;5;241;43m.\u001b[39;49m\u001b[43mscrape\u001b[49m\u001b[43m(\u001b[49m\u001b[43m)\u001b[49m\n\u001b[1;32m      2\u001b[0m \u001b[38;5;28mlen\u001b[39m(out)\n",
      "File \u001b[0;32m~/BryceShakes/Climbing deals/climbing_scraper.py:224\u001b[0m, in \u001b[0;36mscraper.scrape\u001b[0;34m(display)\u001b[0m\n\u001b[1;32m    221\u001b[0m \u001b[38;5;129m@staticmethod\u001b[39m\n\u001b[1;32m    222\u001b[0m \u001b[38;5;28;01mdef\u001b[39;00m \u001b[38;5;21mscrape\u001b[39m(display \u001b[38;5;241m=\u001b[39m \u001b[38;5;28;01mFalse\u001b[39;00m):\n\u001b[1;32m    223\u001b[0m     \u001b[38;5;28mdict\u001b[39m \u001b[38;5;241m=\u001b[39m scraper\u001b[38;5;241m.\u001b[39mbananafingers()\n\u001b[0;32m--> 224\u001b[0m     \u001b[38;5;28mdict\u001b[39m \u001b[38;5;241m=\u001b[39m \u001b[43mscraper\u001b[49m\u001b[38;5;241;43m.\u001b[39;49m\u001b[43mrockrun\u001b[49m\u001b[43m(\u001b[49m\u001b[38;5;28;43mdict\u001b[39;49m\u001b[43m \u001b[49m\u001b[38;5;241;43m=\u001b[39;49m\u001b[43m \u001b[49m\u001b[38;5;28;43mdict\u001b[39;49m\u001b[43m)\u001b[49m\n\u001b[1;32m    225\u001b[0m     \u001b[38;5;28mdict\u001b[39m \u001b[38;5;241m=\u001b[39m scraper\u001b[38;5;241m.\u001b[39mclimbers_shop(\u001b[38;5;28mdict\u001b[39m \u001b[38;5;241m=\u001b[39m \u001b[38;5;28mdict\u001b[39m)\n\u001b[1;32m    226\u001b[0m     \u001b[38;5;28mdict\u001b[39m \u001b[38;5;241m=\u001b[39m scraper\u001b[38;5;241m.\u001b[39mgooutdoors(\u001b[38;5;28mdict\u001b[39m \u001b[38;5;241m=\u001b[39m \u001b[38;5;28mdict\u001b[39m)\n",
      "File \u001b[0;32m~/BryceShakes/Climbing deals/climbing_scraper.py:112\u001b[0m, in \u001b[0;36mscraper.rockrun\u001b[0;34m(display, dict)\u001b[0m\n\u001b[1;32m    110\u001b[0m \u001b[38;5;28;01mwhile\u001b[39;00m no_of_pagedowns:\n\u001b[1;32m    111\u001b[0m     body\u001b[38;5;241m.\u001b[39msend_keys(Keys\u001b[38;5;241m.\u001b[39mPAGE_DOWN) \u001b[38;5;66;03m# send pg_down key press to firefox instance\u001b[39;00m\n\u001b[0;32m--> 112\u001b[0m     \u001b[43mtime\u001b[49m\u001b[38;5;241;43m.\u001b[39;49m\u001b[43msleep\u001b[49m\u001b[43m(\u001b[49m\u001b[38;5;241;43m1\u001b[39;49m\u001b[43m)\u001b[49m \u001b[38;5;66;03m#it loads new thingies so give it a mo\u001b[39;00m\n\u001b[1;32m    113\u001b[0m     no_of_pagedowns\u001b[38;5;241m-\u001b[39m\u001b[38;5;241m=\u001b[39m\u001b[38;5;241m1\u001b[39m\n\u001b[1;32m    115\u001b[0m soup \u001b[38;5;241m=\u001b[39m bs(browser\u001b[38;5;241m.\u001b[39mpage_source) \u001b[38;5;66;03m# convert html from selenium to parsed text\u001b[39;00m\n",
      "\u001b[0;31mKeyboardInterrupt\u001b[0m: "
     ]
    }
   ],
   "source": [
    "out = scraper.scrape()\n",
    "len(out)"
   ]
  },
  {
   "cell_type": "code",
   "execution_count": null,
   "id": "fb2d8788-d5a2-46d1-a32a-4e4fc498a58f",
   "metadata": {},
   "outputs": [],
   "source": []
  }
 ],
 "metadata": {
  "kernelspec": {
   "display_name": "Python 3 (ipykernel)",
   "language": "python",
   "name": "python3"
  },
  "language_info": {
   "codemirror_mode": {
    "name": "ipython",
    "version": 3
   },
   "file_extension": ".py",
   "mimetype": "text/x-python",
   "name": "python",
   "nbconvert_exporter": "python",
   "pygments_lexer": "ipython3",
   "version": "3.10.13"
  }
 },
 "nbformat": 4,
 "nbformat_minor": 5
}
