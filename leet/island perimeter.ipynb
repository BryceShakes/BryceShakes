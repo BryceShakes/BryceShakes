{
 "cells": [
  {
   "attachments": {
    "3b9f5fbb-b52c-4f47-914a-31a5b81d32a2.png": {
     "image/png": "[encoded data removed]"
    }
   },
   "cell_type": "markdown",
   "id": "b072a143-924e-415f-83ab-95c6eefffa71",
   "metadata": {},
   "source": [
    "https://leetcode.com/problems/island-perimeter/description/?envType=daily-question&envId=2024-04-18\n",
    "\n",
    "463. Island Perimeter\n",
    "Easy\n",
    "Topics\n",
    "Companies\n",
    "\n",
    "You are given row x col grid representing a map where grid[i][j] = 1 represents land and grid[i][j] = 0 represents water.\n",
    "\n",
    "Grid cells are connected horizontally/vertically (not diagonally). The grid is completely surrounded by water, and there is exactly one island (i.e., one or more connected land cells).\n",
    "\n",
    "The island doesn't have \"lakes\", meaning the water inside isn't connected to the water around the island. One cell is a square with side length 1. The grid is rectangular, width and height don't exceed 100. Determine the perimeter of the island.\n",
    "\n",
    " \n",
    "\n",
    "Example 1:\n",
    "\n",
    "![island.png](attachment:3b9f5fbb-b52c-4f47-914a-31a5b81d32a2.png)\n",
    "\n",
    "Input: grid = [[0,1,0,0],[1,1,1,0],[0,1,0,0],[1,1,0,0]]\n",
    "Output: 16\n",
    "Explanation: The perimeter is the 16 yellow stripes in the image above.\n",
    "\n",
    "Example 2:\n",
    "\n",
    "Input: grid = [[1]]\n",
    "Output: 4\n",
    "\n",
    "Example 3:\n",
    "\n",
    "Input: grid = [[1,0]]\n",
    "Output: 4\n",
    "\n",
    " \n",
    "\n",
    "Constraints:\n",
    "```\n",
    "    row == grid.length\n",
    "    col == grid[i].length\n",
    "    1 <= row, col <= 100\n",
    "    grid[i][j] is 0 or 1.\n",
    "    There is exactly one island in grid.\n",
    "```\n",
    "\n",
    "\n"
   ]
  },
  {
   "cell_type": "code",
   "execution_count": 48,
   "id": "fafeab35-ae23-42aa-bb44-cf85f54b2c29",
   "metadata": {},
   "outputs": [],
   "source": [
    "# should be easy enough, will count each square and see if island, take away count if adjacent. \n",
    "# does mention that there are no lakes and only one island so could do more efficiently once i find part of island no need to search space anymore only adjacents\n",
    "\n",
    "class Solution:\n",
    "    def islandPerimeter(self, grid) -> int:\n",
    "        perim = 0\n",
    "        w = len(grid)\n",
    "        h = len(grid[0])\n",
    "        for i in range(w):\n",
    "            for j in range(h):\n",
    "                #check if is island\n",
    "                if grid[i][j] == 1:\n",
    "                    perim += 4\n",
    "                    print(f'perim = {perim} having added {i},{j}')\n",
    "                    #check adjacent\n",
    "                    for k,l in [[i-1,j],[i+1,j],[i,j-1],[i,j+1]]:\n",
    "                        if -1 not in [k,l] and k < w and l < h:\n",
    "                            if grid[k][l] == 1:\n",
    "                                perim -=1\n",
    "                                print(f'perim = {perim} with {k},{l} being adjacent to {i},{j}')\n",
    "                                \n",
    "    \n",
    "        return perim"
   ]
  },
  {
   "cell_type": "code",
   "execution_count": 49,
   "id": "5c7ca397-46f0-489f-8ecc-42f7e2ebd138",
   "metadata": {},
   "outputs": [
    {
     "name": "stdout",
     "output_type": "stream",
     "text": [
      "perim = 4 having added 0,0\n"
     ]
    },
    {
     "data": {
      "text/plain": [
       "4"
      ]
     },
     "execution_count": 49,
     "metadata": {},
     "output_type": "execute_result"
    }
   ],
   "source": [
    "Solution().islandPerimeter([[1,0]])"
   ]
  },
  {
   "cell_type": "code",
   "execution_count": 50,
   "id": "c4088930-1cf8-4be8-8ae0-2e38e110f3d0",
   "metadata": {},
   "outputs": [
    {
     "name": "stdout",
     "output_type": "stream",
     "text": [
      "perim = 4 having added 0,1\n",
      "perim = 3 with 1,1 being adjacent to 0,1\n",
      "perim = 7 having added 1,0\n",
      "perim = 6 with 1,1 being adjacent to 1,0\n",
      "perim = 10 having added 1,1\n",
      "perim = 9 with 0,1 being adjacent to 1,1\n",
      "perim = 8 with 2,1 being adjacent to 1,1\n",
      "perim = 7 with 1,0 being adjacent to 1,1\n",
      "perim = 6 with 1,2 being adjacent to 1,1\n",
      "perim = 10 having added 1,2\n",
      "perim = 9 with 1,1 being adjacent to 1,2\n",
      "perim = 13 having added 2,1\n",
      "perim = 12 with 1,1 being adjacent to 2,1\n",
      "perim = 11 with 3,1 being adjacent to 2,1\n",
      "perim = 15 having added 3,0\n",
      "perim = 14 with 3,1 being adjacent to 3,0\n",
      "perim = 18 having added 3,1\n",
      "perim = 17 with 2,1 being adjacent to 3,1\n",
      "perim = 16 with 3,0 being adjacent to 3,1\n"
     ]
    },
    {
     "data": {
      "text/plain": [
       "16"
      ]
     },
     "execution_count": 50,
     "metadata": {},
     "output_type": "execute_result"
    }
   ],
   "source": [
    "Solution().islandPerimeter([[0,1,0,0],[1,1,1,0],[0,1,0,0],[1,1,0,0]])"
   ]
  },
  {
   "cell_type": "code",
   "execution_count": null,
   "id": "e538da24-5a72-4b51-bbc1-d46e24e4015a",
   "metadata": {},
   "outputs": [],
   "source": []
  }
 ],
 "metadata": {
  "kernelspec": {
   "display_name": "Python 3 (ipykernel)",
   "language": "python",
   "name": "python3"
  },
  "language_info": {
   "codemirror_mode": {
    "name": "ipython",
    "version": 3
   },
   "file_extension": ".py",
   "mimetype": "text/x-python",
   "name": "python",
   "nbconvert_exporter": "python",
   "pygments_lexer": "ipython3",
   "version": "3.10.13"
  }
 },
 "nbformat": 4,
 "nbformat_minor": 5
}
