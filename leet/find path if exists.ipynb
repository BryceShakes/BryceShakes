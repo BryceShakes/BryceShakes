{
 "cells": [
  {
   "attachments": {
    "62b97913-0ba8-4b49-b95b-f3b671fd9144.png": {
     "image/png": "[encoded data removed]"
    },
    "8f40e128-e76b-499c-ad7f-b943b9d67d03.png": {
     "image/png": "[encoded data removed]"
    }
   },
   "cell_type": "markdown",
   "id": "f9e23fd6-4094-47ad-897a-65fb0888c0af",
   "metadata": {},
   "source": [
    "https://leetcode.com/problems/find-if-path-exists-in-graph/description/?envType=daily-question&envId=2024-04-21\n",
    "\n",
    "1971. Find if Path Exists in Graph\n",
    "Easy\n",
    "Topics\n",
    "Companies\n",
    "\n",
    "There is a bi-directional graph with n vertices, where each vertex is labeled from 0 to n - 1 (inclusive). The edges in the graph are represented as a 2D integer array edges, where each edges[i] = [ui, vi] denotes a bi-directional edge between vertex ui and vertex vi. Every vertex pair is connected by at most one edge, and no vertex has an edge to itself.\n",
    "\n",
    "You want to determine if there is a valid path that exists from vertex source to vertex destination.\n",
    "\n",
    "Given edges and the integers n, source, and destination, return true if there is a valid path from source to destination, or false otherwise.\n",
    "\n",
    " \n",
    "\n",
    "Example 1:\n",
    "\n",
    "![validpath-ex1.png](attachment:8f40e128-e76b-499c-ad7f-b943b9d67d03.png)\n",
    "\n",
    "Input: n = 3, edges = [[0,1],[1,2],[2,0]], source = 0, destination = 2\n",
    "Output: true\n",
    "Explanation: There are two paths from vertex 0 to vertex 2:\n",
    "- 0 → 1 → 2\n",
    "- 0 → 2\n",
    "\n",
    "Example 2:\n",
    "\n",
    "![validpath-ex2.png](attachment:62b97913-0ba8-4b49-b95b-f3b671fd9144.png)\n",
    "\n",
    "Input: n = 6, edges = [[0,1],[0,2],[3,5],[5,4],[4,3]], source = 0, destination = 5\n",
    "Output: false\n",
    "Explanation: There is no path from vertex 0 to vertex 5.\n",
    "\n",
    " \n",
    "\n",
    "Constraints:\n",
    "\n",
    "    1 <= n <= 2 * 105\n",
    "    0 <= edges.length <= 2 * 105\n",
    "    edges[i].length == 2\n",
    "    0 <= ui, vi <= n - 1\n",
    "    ui != vi\n",
    "    0 <= source, destination <= n - 1\n",
    "    There are no duplicate edges.\n",
    "    There are no self edges.\n",
    "\n"
   ]
  },
  {
   "cell_type": "markdown",
   "id": "31050a1d-118a-4d6d-ab07-b2b33955fa14",
   "metadata": {},
   "source": [
    "### idea is to move backwards, start at end, get all edges you can visit from there. if not goal then note where weve been and see where other new points can go. "
   ]
  },
  {
   "cell_type": "code",
   "execution_count": 73,
   "id": "c3fc2bad-a897-4eaa-8312-485da2807797",
   "metadata": {},
   "outputs": [],
   "source": [
    "class Solution:\n",
    "    def validPath(self, n: int, edges, source: int, destination: int) -> bool:\n",
    "        self.visited = set()\n",
    "        self.edge = edges\n",
    "        self.path = False\n",
    "        if source == destination:\n",
    "            return True\n",
    "        self.back(vert = source, dest = destination, n = n)\n",
    "        return self.path\n",
    "\n",
    "    def back(self, vert: int, dest: int, n : int):\n",
    "        self.visited.add(vert)\n",
    "        poss = [x[1 if x[0] == vert else 0] for x in self.edge if (vert in x and set(x) - self.visited != set())]\n",
    "        if dest in poss:\n",
    "            self.path = True\n",
    "            return\n",
    "        if len(self.visited) == n:\n",
    "            self.path = False\n",
    "            return\n",
    "        for i in poss:\n",
    "            self.back(vert = i, dest = dest, n = n)"
   ]
  },
  {
   "cell_type": "code",
   "execution_count": 75,
   "id": "9de103ed-6f30-41a0-98e9-6b91607d760e",
   "metadata": {},
   "outputs": [
    {
     "data": {
      "text/plain": [
       "True"
      ]
     },
     "execution_count": 75,
     "metadata": {},
     "output_type": "execute_result"
    }
   ],
   "source": [
    "n = 3\n",
    "edges = [[0,1],[1,2]]\n",
    "source = 0\n",
    "destination = 2\n",
    "Solution().validPath(n, edges, source, destination)"
   ]
  },
  {
   "cell_type": "code",
   "execution_count": 76,
   "id": "b4ec9ab9-16b8-4745-8733-9a96e7dc0c34",
   "metadata": {},
   "outputs": [
    {
     "name": "stdout",
     "output_type": "stream",
     "text": [
      "True\n"
     ]
    }
   ],
   "source": [
    "n = 10\n",
    "edges = [[4,3],[1,4],[4,8],[1,7],[6,4],[4,2],[7,4],[4,0],[0,9],[5,4]]\n",
    "source = 5\n",
    "destination = 9\n",
    "print(Solution().validPath(n, edges, source, destination))"
   ]
  },
  {
   "cell_type": "markdown",
   "id": "111d3a71-05e9-4439-85d9-d83a8ff74eeb",
   "metadata": {},
   "source": [
    "i think this would work but it failed on time, likely because its a depth first. will alter to remove edges that belong to items already traversed, hopefully speed it up. if not will change to breadth first instead of depth first\n"
   ]
  },
  {
   "cell_type": "code",
   "execution_count": 77,
   "id": "acd68cc3-7c52-4007-ab21-6fc9c2e6245a",
   "metadata": {},
   "outputs": [],
   "source": [
    "class Solution2:\n",
    "    def validPath(self, n: int, edges, source: int, destination: int) -> bool:\n",
    "        self.visited = set()\n",
    "        self.edge = edges\n",
    "        self.path = False\n",
    "        if source == destination:\n",
    "            return True\n",
    "        self.back(vert = source, dest = destination, n = n)\n",
    "        return self.path\n",
    "\n",
    "    def back(self, vert: int, dest: int, n : int):\n",
    "        self.visited.add(vert)\n",
    "        poss = [x[1 if x[0] == vert else 0] for x in self.edge if (vert in x and set(x) - self.visited != set())]\n",
    "        self.edge = [x for x in self.edge if set(x) - self.visited != set()]\n",
    "        if dest in poss:\n",
    "            self.path = True\n",
    "            return\n",
    "        if len(self.visited) == n:\n",
    "            self.path = False\n",
    "            return\n",
    "        for i in poss:\n",
    "            self.back(vert = i, dest = dest, n = n)"
   ]
  },
  {
   "cell_type": "code",
   "execution_count": 80,
   "id": "b0adcb09-0608-46fd-a61b-b17030518cda",
   "metadata": {},
   "outputs": [
    {
     "data": {
      "text/plain": [
       "False"
      ]
     },
     "execution_count": 80,
     "metadata": {},
     "output_type": "execute_result"
    }
   ],
   "source": [
    "n = 3\n",
    "edges = [[0,1],[1,2]]\n",
    "source = 0\n",
    "destination = 3\n",
    "Solution2().validPath(n, edges, source, destination)"
   ]
  },
  {
   "cell_type": "code",
   "execution_count": 81,
   "id": "701f73fa-836d-4380-bca0-02029f6bff3c",
   "metadata": {},
   "outputs": [
    {
     "name": "stdout",
     "output_type": "stream",
     "text": [
      "True\n"
     ]
    }
   ],
   "source": [
    "n = 10\n",
    "edges = [[4,3],[1,4],[4,8],[1,7],[6,4],[4,2],[7,4],[4,0],[0,9],[5,4]]\n",
    "source = 5\n",
    "destination = 6\n",
    "print(Solution2().validPath(n, edges, source, destination))"
   ]
  },
  {
   "cell_type": "markdown",
   "id": "d0f51347-dd8d-422e-b507-7de1f84a4c96",
   "metadata": {},
   "source": [
    "it wasnt fast but was accepted, will change to breadth first anyway just to make quick"
   ]
  },
  {
   "cell_type": "code",
   "execution_count": 108,
   "id": "e2392faa-5623-47fe-9faa-25da6e46f904",
   "metadata": {},
   "outputs": [],
   "source": [
    "class Solution:\n",
    "    def validPath(self, n: int, edges, source: int, destination: int) -> bool:\n",
    "        self.visited = set()\n",
    "        self.queue = []\n",
    "        self.edge = edges\n",
    "        self.path = False\n",
    "        if source == destination:\n",
    "            return True\n",
    "        self.back(vert = source, dest = destination, n = n)\n",
    "        return self.path\n",
    "\n",
    "    def back(self, vert: int, dest: int, n : int):\n",
    "        self.visited.add(vert)\n",
    "        self.queue = self.queue + [x[1 if x[0] == vert else 0] for x in self.edge if (vert in x and x[1 if x[0] == vert else 0] not in self.queue)]\n",
    "        self.edge = [x for x in self.edge if set(x) - self.visited != set()]\n",
    "        if self.queue == []:\n",
    "            return\n",
    "        if dest in self.queue:\n",
    "            self.path = True\n",
    "            return\n",
    "        if len(self.visited) == n:\n",
    "            return\n",
    "        a = self.queue[0]\n",
    "        self.queue.remove(a)\n",
    "        self.back(vert = a, dest = dest, n = n)"
   ]
  },
  {
   "cell_type": "markdown",
   "id": "66ac7285-57d1-4cf8-9c2c-f1ae2736e875",
   "metadata": {},
   "source": [
    "this isnt much faster, great on memory though"
   ]
  }
 ],
 "metadata": {
  "kernelspec": {
   "display_name": "Python 3 (ipykernel)",
   "language": "python",
   "name": "python3"
  },
  "language_info": {
   "codemirror_mode": {
    "name": "ipython",
    "version": 3
   },
   "file_extension": ".py",
   "mimetype": "text/x-python",
   "name": "python",
   "nbconvert_exporter": "python",
   "pygments_lexer": "ipython3",
   "version": "3.10.13"
  }
 },
 "nbformat": 4,
 "nbformat_minor": 5
}
