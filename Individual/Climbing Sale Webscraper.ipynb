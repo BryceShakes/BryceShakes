{
 "cells": [
  {
   "cell_type": "code",
   "execution_count": 1,
   "id": "3577e8b4-f5b7-4c59-9c7c-40c362b76b75",
   "metadata": {
    "editable": true,
    "slideshow": {
     "slide_type": ""
    },
    "tags": []
   },
   "outputs": [],
   "source": [
    "import pandas as pd\n",
    "import requests\n",
    "import time\n",
    "import sys\n",
    "import re\n",
    "from bs4 import BeautifulSoup as bs\n",
    "from IPython.display import display, HTML\n",
    "from datetime import datetime\n",
    "from selenium import webdriver\n",
    "from selenium.webdriver import FirefoxOptions\n",
    "from selenium.webdriver.common.keys import Keys\n",
    "from selenium.webdriver.common.by import By\n",
    "\n",
    "pd.set_option('display.max_colwidth', None)\n",
    "\n",
    "def path_to_image_html(path):\n",
    "    return '<img src=\"'+ path + '\" width=\"120\" >'\n",
    "\n",
    "def make_clickable(val):\n",
    "    # target _blank to open new window\n",
    "    return '<a target=\"_blank\" href=\"{}\">{}</a>'.format(val, val)"
   ]
  },
  {
   "cell_type": "raw",
   "id": "c9cd877c-aa72-4cd3-a60d-2f9b97a2de02",
   "metadata": {},
   "source": [
    "# sys.stdin.isatty()\n",
    "this returns true if executed in terminal. want to change this to pure .py at some point so will be usesful for whether running in GUI or terminal"
   ]
  },
  {
   "cell_type": "markdown",
   "id": "128c4025-45d4-48eb-ad8f-5e771526537d",
   "metadata": {},
   "source": [
    "### Banana Fingers"
   ]
  },
  {
   "cell_type": "code",
   "execution_count": 2,
   "id": "47fafd0b-fb15-41f2-bb8f-8cde31e54371",
   "metadata": {},
   "outputs": [],
   "source": [
    "dict = {'item_name':[],\n",
    "        'price':[],\n",
    "        'pecentage_off':[],\n",
    "        'previous_price':[],\n",
    "        'img_link':[],\n",
    "        'item_link':[]}\n",
    "\n",
    "opts = FirefoxOptions()\n",
    "opts.add_argument(\"--headless\") # dont actually make a browser pop up\n",
    "\n",
    "headers = {'User-Agent': 'Mozilla/5.0 (Windows NT 10.0; Win64; x64) AppleWebKit/537.36 (KHTML, like Gecko) Chrome/111.0.0.0 Safari/537.36'}"
   ]
  },
  {
   "cell_type": "code",
   "execution_count": null,
   "id": "6f0e3062-cba1-4812-b871-73f388304ef6",
   "metadata": {
    "editable": true,
    "slideshow": {
     "slide_type": ""
    },
    "tags": []
   },
   "outputs": [],
   "source": [
    "for pg in range(1, 100):\n",
    "    url = f'https://bananafingers.co.uk/outlet?p={pg}' # loop through each outlet page\n",
    "    page = requests.get(url, headers = headers) # call website\n",
    "    if page.status_code != 200:\n",
    "        page = requests.get(url, headers = headers) # try again\n",
    "    if page.status_code != 200:\n",
    "        page = requests.get(url, headers = headers) # try again again\n",
    "    if page.status_code != 200:\n",
    "        break # give up\n",
    "    soup = bs(page.text, 'html.parser') # parse html into text\n",
    "    if soup.find('div', class_ ='message info empty'): #stop if the returned html contains an empty warning (ran out of sale items)\n",
    "        break\n",
    "    all = soup.findAll('li', class_ = 'item product product-item') # find html class for sale items, gather all classes into list\n",
    "\n",
    "    for i in all: # each sale item, get relevant info from html \n",
    "        pecentage_off = float(i.find('span').get_text().strip().replace('%', ''))\n",
    "        dict['pecentage_off'].append(pecentage_off)\n",
    "        dict['img_link'].append( i.find('img')['src'])\n",
    "        dict['item_name'].append(i.find(class_='product-item-link').get_text().strip())\n",
    "        dict['item_link'].append( i.find(class_='product-item-link')['href'])\n",
    "        price = float(i.find(class_='price').get_text().strip('£'))\n",
    "        dict['price'].append(price)\n",
    "        dict['previous_price'].append(price / (1-(pecentage_off/100)))\n",
    "    \n",
    "    #print(f'page {pg} finished at {datetime.now().strftime(\"%H:%M:%S\")}') # checking\n"
   ]
  },
  {
   "cell_type": "markdown",
   "id": "057826de-7b82-43b5-b354-4f7aff85c759",
   "metadata": {},
   "source": [
    "### Rockrun"
   ]
  },
  {
   "cell_type": "code",
   "execution_count": null,
   "id": "95d59f4e-85c8-49c9-ae75-9744f510d487",
   "metadata": {},
   "outputs": [],
   "source": [
    "browser = webdriver.Firefox(options=opts)\n",
    "\n",
    "browser.get('https://rockrun.com/collections/climbing-mountaineering-deals') # use selenium (via firefox instance) to connect to rockrun\n",
    "time.sleep(1)\n",
    "\n",
    "body = browser.find_element(By.CSS_SELECTOR, \"body\") # need to scroll down to access all sale items, so click somewhere that wont change the page, and scroll down\n",
    "no_of_pagedowns = 50\n",
    "\n",
    "while no_of_pagedowns:\n",
    "    body.send_keys(Keys.PAGE_DOWN) # send pg_down key press to firefox instance\n",
    "    time.sleep(1) #it loads new thingies so give it a mo\n",
    "    no_of_pagedowns-=1\n",
    "\n",
    "soup = bs(browser.page_source) # convert html from selenium to parsed text\n",
    "browser.quit()\n",
    "\n",
    "all = soup.findAll('div', class_='product-wrap') # find html class for sale items, gather all classes into list\n",
    "\n",
    "for i in all: # each sale item, get relevant info from html \n",
    "    dict['item_name'].append(i.find(class_ ='product-thumbnail__title').get_text())\n",
    "    price = float(i.find(class_ = 'money').get_text().strip().replace('£',''))\n",
    "    dict['price'].append(price)\n",
    "    previous_price = price if i.find(class_ = 'product-thumbnail__was-price compare-at-price') is None else float(i.find(class_ = 'product-thumbnail__was-price compare-at-price').get_text().strip().replace('£',''))\n",
    "    dict['previous_price'].append(previous_price)\n",
    "    dict['pecentage_off'].append((1 - (price/previous_price))*100)\n",
    "    dict['item_link'].append(f\"https://rockrun.com{i.find('a')['href']}\")\n",
    "    dict['img_link'].append(f\"https://{i.find('img')['src'].strip('/')}\")"
   ]
  },
  {
   "cell_type": "markdown",
   "id": "e6525881-2a8f-4d73-8adf-f54120e6848d",
   "metadata": {},
   "source": [
    "### GoOutdoors"
   ]
  },
  {
   "cell_type": "code",
   "execution_count": null,
   "id": "bc1abb88-e57c-43ee-9d05-9f33e3bed9a6",
   "metadata": {},
   "outputs": [],
   "source": [
    "browser = webdriver.Firefox(options=opts)\n",
    "pattern = re.compile(r'^product-item')\n",
    "\n",
    "for pg in range(1,100):\n",
    "    url = f'https://www.gooutdoors.co.uk/climbing/sal:view/page{pg}.html'\n",
    "    browser.get(url)\n",
    "    time.sleep(1)\n",
    "    soup = bs(browser.page_source)\n",
    "    if soup.find(id='noPage'): #stop if the returned html contains an empty warning (ran out of sale items) or pgs >= 100 (just in case)\n",
    "        break\n",
    "    all = soup.find('div', class_ = 'productlist_grid').findAll('article', class_ = pattern)\n",
    "\n",
    "    for i in all:\n",
    "        sale_text = i.find(class_='offer-text').find().get_text()\n",
    "        if '%' in sale_text:\n",
    "            off = float([i for i in sale_text.split(' ') if '%' in i][0].replace('%', ''))/100\n",
    "        else:\n",
    "            off = 0\n",
    "        dict['item_link'].append(f\"https://www.gooutdoors.co.uk{i.find('a')['href']}\")\n",
    "        dict['img_link'].append(i.find('img')['src'])\n",
    "        dict['item_name'].append(i.find('h2').get_text())\n",
    "        price = float(i.find(class_='loyalty-price').get_text().partition('£')[2]) * (1-off)\n",
    "        dict['price'].append(price)\n",
    "        previous_price = float(i.find(class_='retail-price').get_text().partition('£')[2])\n",
    "        dict['previous_price'].append(previous_price)\n",
    "        dict['pecentage_off'].append((1 - (price/previous_price))*100)\n",
    "    time.sleep(5) # gooutdoors doesnt like being called lots :(\n"
   ]
  },
  {
   "cell_type": "markdown",
   "id": "f2985117-6901-4067-995c-0adc2821403b",
   "metadata": {},
   "source": [
    "### Climbers Shop (same as rockrun really)"
   ]
  },
  {
   "cell_type": "code",
   "execution_count": null,
   "id": "d3110149-36cc-445c-a011-ea720c5e87ad",
   "metadata": {},
   "outputs": [],
   "source": [
    "browser = webdriver.Firefox(options=opts)\n",
    "browser.get('https://www.climbers-shop.com/climbing-equipment/eol/instock')\n",
    "time.sleep(1)\n",
    "\n",
    "body = browser.find_element(By.CSS_SELECTOR, \"body\")\n",
    "no_of_pagedowns = 30\n",
    "\n",
    "while no_of_pagedowns:\n",
    "    body.send_keys(Keys.PAGE_DOWN) \n",
    "    time.sleep(1)\n",
    "    no_of_pagedowns-=1\n",
    "\n",
    "soup = bs(browser.page_source)\n",
    "driver.quit()\n",
    "\n",
    "pattern2 = re.compile(r'item col-facetItem ctrPad16$')\n",
    "all = soup.findAll('div', class_ = pattern2)\n",
    "\n",
    "for i in all:\n",
    "    if i.find('div', class_ = re.compile(r'col-1 pricing$')).find(id='lblwas'): #some items arnt actually on sale idk, so just skip if i cant return a prev price\n",
    "        dict['item_name'].append(i.find('a', class_ = re.compile(r'col-1 frItemName$')).get_text())\n",
    "        dict['price'].append(float(i.find('div', class_ = re.compile(r'col-1 pricing$')).find(id='lblNow').get_text().strip().replace('£','')))\n",
    "        dict['previous_price'].append(float(i.find('div', class_ = re.compile(r'col-1 pricing$')).find(id='lblwas').get_text().strip().replace('£','')))\n",
    "        dict['pecentage_off'].append(float(i.find('div', class_ = re.compile(r'col-1 pricing$')).find(class_='percentOff-betterSearch').get_text().split(' ')[1].replace('%', '')))\n",
    "        dict['item_link'].append(f\"https://www.climbers-shop.com{i.find('a', class_ = re.compile(r'col-1 frItemName$'))['href']}\")\n",
    "        dict['img_link'].append(f\"https://www.climbers-shop.com{i.find('img')['data-src']}\")"
   ]
  },
  {
   "cell_type": "markdown",
   "id": "755c367c-4315-4a85-a000-c350f359827a",
   "metadata": {},
   "source": [
    "### Output Dataframe"
   ]
  },
  {
   "cell_type": "code",
   "execution_count": null,
   "id": "7a31a87b-77ff-4082-a2b5-709f8b25cba0",
   "metadata": {},
   "outputs": [],
   "source": [
    "new = pd.DataFrame(dict)\n",
    "new.sort_values('pecentage_off', inplace =True, ascending = False)\n",
    "new.reset_index(drop=True, inplace = True)\n",
    "new['previous_price'] = new['previous_price'].apply(lambda x: \"£{:.2f}\".format((x)))\n",
    "new['price'] = new['price'].apply(lambda x: \"£{:.2f}\".format((x)))\n",
    "new['pecentage_off'] = new['pecentage_off'].apply(lambda x: \"{:.0f}%\".format(x))"
   ]
  },
  {
   "cell_type": "code",
   "execution_count": null,
   "id": "b6e34f92-a728-4b36-a90c-8fd69ec2454a",
   "metadata": {},
   "outputs": [],
   "source": [
    "show = min(50, len(new))\n",
    "format_dict = {'img_link':path_to_image_html, 'item_link':make_clickable}\n",
    "display(HTML(new.head(show).to_html(escape=False, formatters=format_dict, index = False)))"
   ]
  },
  {
   "cell_type": "code",
   "execution_count": null,
   "id": "2dc96c42-4682-4684-ab91-67070358f35b",
   "metadata": {},
   "outputs": [],
   "source": []
  }
 ],
 "metadata": {
  "kernelspec": {
   "display_name": "Python 3 (ipykernel)",
   "language": "python",
   "name": "python3"
  },
  "language_info": {
   "codemirror_mode": {
    "name": "ipython",
    "version": 3
   },
   "file_extension": ".py",
   "mimetype": "text/x-python",
   "name": "python",
   "nbconvert_exporter": "python",
   "pygments_lexer": "ipython3",
   "version": "3.10.13"
  }
 },
 "nbformat": 4,
 "nbformat_minor": 5
}
